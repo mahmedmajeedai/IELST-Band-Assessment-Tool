{
  "nbformat": 4,
  "nbformat_minor": 0,
  "metadata": {
    "colab": {
      "provenance": []
    },
    "kernelspec": {
      "name": "python3",
      "display_name": "Python 3"
    },
    "language_info": {
      "name": "python"
    }
  },
  "cells": [
    {
      "cell_type": "code",
      "source": [
        "def calculate_band_score(criteria, raw_score):\n",
        "    conversion_scales = {\n",
        "        \"Listening\": {\n",
        "             (39, 40): 9,\n",
        "             (37, 38): 8.5,\n",
        "             (35, 36): 8,\n",
        "             (32, 34): 7.5,\n",
        "             (30, 31): 7,\n",
        "             (26, 29): 6.5,\n",
        "             (23, 25): 6,\n",
        "             (18, 22): 5.5,\n",
        "             (16, 17): 5,\n",
        "             (13, 15): 4.5,\n",
        "             (11, 12): 4\n",
        "        },\n",
        "        \"Reading\": {\n",
        "             (39, 40): 9,\n",
        "             (37, 38): 8.5,\n",
        "             (35, 36): 8,\n",
        "             (32, 34): 7.5,\n",
        "             (30, 31): 7,\n",
        "             (26, 29): 6.5,\n",
        "             (23, 25): 6,\n",
        "             (18, 22): 5.5,\n",
        "             (16, 17): 5,\n",
        "             (13, 15): 4.5,\n",
        "             (11, 12): 4,\n",
        "             (9, 8): 3.5,\n",
        "             (7, 6): 3,\n",
        "             (5, 4): 2.5\n",
        "        },\n",
        "        \"Writing\": {\n",
        "             (39, 40): 9,\n",
        "             (37, 38): 8.5,\n",
        "             (35, 36): 8,\n",
        "             (32, 34): 7.5,\n",
        "             (30, 31): 7,\n",
        "             (26, 29): 6.5,\n",
        "             (23, 25): 6,\n",
        "             (18, 22): 5.5,\n",
        "             (16, 17): 5,\n",
        "             (13, 15): 4.5,\n",
        "             (11, 12): 4,\n",
        "             (9, 8): 3.5,\n",
        "             (7, 6): 3,\n",
        "             (5, 4): 2.5\n",
        "        },\n",
        "        \"Speaking\": {\n",
        "             (39, 40): 9,\n",
        "             (37, 38): 8.5,\n",
        "             (35, 36): 8,\n",
        "             (32, 34): 7.5,\n",
        "             (30, 31): 7,\n",
        "             (26, 29): 6.5,\n",
        "             (23, 25): 6,\n",
        "             (18, 22): 5.5,\n",
        "             (16, 17): 5,\n",
        "             (13, 15): 4.5,\n",
        "             (11, 12): 4,\n",
        "             (9, 8): 3.5,\n",
        "             (7, 6): 3,\n",
        "             (5, 4): 2.5\n",
        "        }\n",
        "    }"
      ],
      "metadata": {
        "id": "3XKy0MyImZpr"
      },
      "execution_count": null,
      "outputs": []
    },
    {
      "cell_type": "code",
      "source": [
        "     conversion_scale = conversion_scales.get(criteria)\n",
        "\n",
        "    if conversion_scale is None:\n",
        "        return f\"Invalid criterion: {criteria}\"\n",
        "\n",
        "    for score_range, band_score in conversion_scale.items():\n",
        "        if raw_score >= score_range[0] and raw_score <= score_range[1]:\n",
        "            return band_score\n",
        "\n",
        "    return None"
      ],
      "metadata": {
        "id": "t2yfWMgKmZfk"
      },
      "execution_count": null,
      "outputs": []
    },
    {
      "cell_type": "code",
      "source": [
        "def calculate_overall_band_score(band_scores):\n",
        "    average_score = sum(band_scores) / len(band_scores)\n",
        "    rounded_score = round(average_score * 2) / 2\n",
        "    return rounded_score"
      ],
      "metadata": {
        "id": "lEiaNQK6mZas"
      },
      "execution_count": null,
      "outputs": []
    },
    {
      "cell_type": "code",
      "execution_count": null,
      "metadata": {
        "id": "Ihaes6JumXpO"
      },
      "outputs": [],
      "source": [
        "# Prompt the user for input\n",
        "criteria_list = [\"Listening\", \"Reading\", \"Writing\", \"Speaking\"]\n",
        "band_scores = []\n",
        "\n",
        "for criteria in criteria_list:\n",
        "    raw_score = int(input(f\"Enter the raw score for {criteria}: \"))\n",
        "    band_score = calculate_band_score(criteria, raw_score)\n",
        "    if band_score is not None:\n",
        "        band_scores.append(band_score)\n",
        "        print(f\"The student's band score for {criteria} is: {band_score}\")\n",
        "    else:\n",
        "        print(f\"Unable to calculate band score for {criteria}. Raw score is out of range.\")\n",
        "\n",
        "# Calculate the overall band score\n",
        "if len(band_scores) == len(criteria_list):\n",
        "    overall_band_score = calculate_overall_band_score(band_scores)\n",
        "    print(f\"The student's overall band score is: {overall_band_score}\")\n",
        "else:\n",
        "    print(\"Unable to calculate overall band score. One or more individual band scores are missing.\")\n"
      ]
    }
  ]
}
